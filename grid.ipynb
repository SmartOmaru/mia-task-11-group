{
 "cells": [
  {
   "cell_type": "code",
   "execution_count": 17,
   "id": "6f771adb",
   "metadata": {},
   "outputs": [],
   "source": [
    "import cv2\n",
    "import numpy as np\n",
    "import time\n",
    "import random"
   ]
  },
  {
   "cell_type": "code",
   "execution_count": 18,
   "id": "9f78254f",
   "metadata": {},
   "outputs": [],
   "source": [
    "Game_Duration = 60  # Game duration in seconds\n",
    "Start_Time = time.time() # Records when the game starts\n",
    "Score = 0\n",
    "Misses = 0\n",
    "Decepticon_Lifetime = 5 # Decepticon's life span on screen\n",
    "Decepticons = {} # To track decepticons on screen + their spawn times\n"
   ]
  },
  {
   "cell_type": "code",
   "execution_count": 19,
   "id": "2cbe48c3",
   "metadata": {},
   "outputs": [],
   "source": [
    "#Random spawn of decepticons\n",
    "def spawning_decepticons(frame, Decepticons):\n",
    "    if len(Decepticons) < 5:  # Limit the number of decepticons on screen\n",
    "        if random.random() < 0.02:  # 2% chance to spawn a new decepticon each frame\n",
    "            x = random.randint(0, frame.shape[1] - 50)\n",
    "            y = random.randint(0, frame.shape[0] - 50)\n",
    "            Decepticons[(x, y)] = time.time()  # Store spawn time\n",
    "            cv2.rectangle(frame, (x, y), (x + 50, y + 50), (0, 0, 255), -1)  # Draw decepticon\n",
    "    return frame, Decepticons"
   ]
  },
  {
   "cell_type": "code",
   "execution_count": 20,
   "id": "26215d4a",
   "metadata": {},
   "outputs": [],
   "source": [
    "# Remove decepticons after finishing their life span + add to misses\n",
    "def remove_Decepticons(Decepticons):\n",
    "    global Misses\n",
    "    current_time = time.time() #gets the current time\n",
    "    to_remove = [pos for pos, spawn_time in Decepticons.items() if current_time - spawn_time > Decepticon_Lifetime] #List comprehension iterates over Decepticons, it calculates how long the decepticon has been on screen, if it exceeds the life span it is marked for removal, it results in a list containing the decepticons that overstayed\n",
    "    for pos in to_remove:\n",
    "        del Decepticons[pos] #removes the decepticons that overstayed\n",
    "        Misses += 1 #increments misses by 1 every time a decepticon is removed\n",
    "    return Decepticons"
   ]
  },
  {
   "cell_type": "code",
   "execution_count": 21,
   "id": "9b653f74",
   "metadata": {},
   "outputs": [],
   "source": [
    "#To draw decepticons on the frame\n",
    "#DECEPTICON_SIZE = 50\n",
    "#def draw_decepticons(frame, decepticons):\n",
    "    #for (x, y), spawn_time in decepticons.items():\n",
    "        #cv2.rectangle(frame, (x, y), (x + DECEPTICON_SIZE, y + DECEPTICON_SIZE), (0, 0, 255), -1)"
   ]
  },
  {
   "cell_type": "code",
   "execution_count": 22,
   "id": "94ce2e25",
   "metadata": {},
   "outputs": [],
   "source": [
    "def score_and_misses(frame):\n",
    "    global Score, Misses\n",
    "    cv2.puttext(frame, f\"Score:{Score}\", (10, 30), cv2.FONT_HERSHEY_SIMPLEX, 1, (0, 255, 0), 2) # Displays score at the top left corner in green\n",
    "    cv2.puttext(frame, f\"Misses:{Misses}\", (10, 70), cv2.FONT_HERSHEY_SIMPLEX, 1, (0, 0, 255), 2) # Displays misses at the top left corner in red\n",
    "    # cv2.puttext(image, text, position, font, font_scale, color, thickness)\n",
    "    return frame"
   ]
  },
  {
   "cell_type": "code",
   "execution_count": null,
   "id": "0c10fd89",
   "metadata": {},
   "outputs": [],
   "source": [
    "def main_gameloop():\n",
    "    global Score, Misses, Decepticons\n",
    "    # opens webcam for video capture\n",
    "    cap = cv2.VideoCapture(0)\n",
    "    while True:\n",
    "        ret, frame = cap.read()\n",
    "        if not ret:\n",
    "            print(\"Error: Failed to capture frame.\")\n",
    "        break\n",
    "        elapsed_time = time.time() - Start_Time #Calculates how much time has passed since the game started\n",
    "        Time_Left = Game_Duration - elapsed_time # calculates how much time is left\n",
    "        if Time_Left <= 0:\n",
    "            cv2.putText(frame, \"GAME OVER\", (200, 200), cv2.FONT_HERSHEY_SIMPLEX, 2, (0, 0, 255), 3) # Displays that the game is over\n",
    "            cv2.putText(frame, f\"Final Score: {Score}\", (200, 250), cv2.FONT_HERSHEY_SIMPLEX, 1, (0, 255, 0), 2) # Displays the final score\n",
    "            cv2.imshow(\"Wack-a-Decepticon\", frame)\n",
    "            cv2.waitKey(5000)  \n",
    "            break  \n",
    "\n",
    "        Decepticons = spawning_decepticons(frame, Decepticons) # calls that function that spawns decepticons\n",
    "        \n",
    "        Decepticons = remove_decepticons(Decepticons) # calls the function that removes decepticons after their life span\n",
    "\n",
    "\n",
    "        #draw_decepticons(frame, decepticons) # draws the decepticons on the frame\n",
    "\n",
    "        \n",
    "        display_score_and_misses(frame, score, misses, time_left) # displays the score and misses on the frame\n",
    "\n",
    "        \n",
    "        cv2.imshow(\"Wack-a-Decepticon\", frame)\n",
    "\n",
    "        \n",
    "        key = cv2.waitKey(30) & 0xFF # waits for 30 ms for a key press\n",
    "        if key == 27: # if the key pressed is 'ESC'\n",
    "            break  \n",
    "\n",
    "    \n",
    "    cap.release()\n",
    "    cv2.destroyAllWindows()\n",
    "\n"
   ]
  }
 ],
 "metadata": {
  "kernelspec": {
   "display_name": "Python 3",
   "language": "python",
   "name": "python3"
  },
  "language_info": {
   "codemirror_mode": {
    "name": "ipython",
    "version": 3
   },
   "file_extension": ".py",
   "mimetype": "text/x-python",
   "name": "python",
   "nbconvert_exporter": "python",
   "pygments_lexer": "ipython3",
   "version": "3.10.0"
  }
 },
 "nbformat": 4,
 "nbformat_minor": 5
}

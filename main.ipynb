{
 "cells": [
  {
   "cell_type": "code",
   "execution_count": 34,
   "id": "e02dc437",
   "metadata": {},
   "outputs": [],
   "source": [
    "import cv2 as cv\n",
    "import numpy as np\n",
    "import random"
   ]
  },
  {
   "cell_type": "markdown",
   "id": "510e11c3",
   "metadata": {},
   "source": [
    "## Draw grid\n",
    "\n"
   ]
  },
  {
   "cell_type": "markdown",
   "id": "25a066ce",
   "metadata": {},
   "source": [
    "function should generate a blue grid n*n costumized by the user input"
   ]
  },
  {
   "cell_type": "code",
   "execution_count": 35,
   "id": "99006379",
   "metadata": {},
   "outputs": [],
   "source": [
    "\n",
    "def draw_grid(img, n, color=(255, 0, 0), thickness=1):\n",
    "    h, w, _ = img.shape # height, width of the image\n",
    "    rows, cols = n, n # number of rows and columns\n",
    "    dy, dx = h / rows, w / cols # step size\n",
    "    for x in np.linspace(start=dx, stop=w-dx, num=cols-1):# x coordinates of vertical lines , the linspace is used to get evenly spaced values\n",
    "        x = int(round(x))\n",
    "        cv.line(img, (x, 0), (x, h), color=color, thickness=thickness)\n",
    "    for y in np.linspace(start=dy, stop=h-dy, num=rows-1):# y coordinates of horizontal lines\n",
    "        y = int(round(y))\n",
    "        cv.line(img, (0, y), (w, y), color=color, thickness=thickness)\n",
    "\n",
    "    return img\n"
   ]
  },
  {
   "cell_type": "markdown",
   "id": "261382c2",
   "metadata": {},
   "source": [
    "# Random appearence for decepticon"
   ]
  },
  {
   "cell_type": "markdown",
   "id": "060d3b3e",
   "metadata": {},
   "source": [
    "function should get decepticon appear randomly in the grid  as red full circle"
   ]
  },
  {
   "cell_type": "code",
   "execution_count": 36,
   "id": "a42eccf5",
   "metadata": {},
   "outputs": [],
   "source": [
    "def random_cell(img , n, radius=30,  color=(0,0,255), thickness=-1):\n",
    "    h, w, _ = img.shape # height, width of the image\n",
    "    rows, cols = n, n   # number of rows and columns\n",
    "    dy, dx = h / rows, w / cols # step size\n",
    "    rand_row = random.randint(0, n-1) # random row and column index\n",
    "    rand_col = random.randint(0, n-1)\n",
    "    center_x = int((rand_col + 0.5) * dx) # center of the cell\n",
    "    center_y = int((rand_row + 0.5) * dy)\n",
    "    cv.circle(img, center=(center_x, center_y), radius=radius, color=color, thickness=thickness)\n",
    "    return img\n",
    "    "
   ]
  },
  {
   "cell_type": "markdown",
   "id": "0dc46329",
   "metadata": {},
   "source": [
    "# Highlight selected cell "
   ]
  },
  {
   "cell_type": "markdown",
   "id": "ed5305b4",
   "metadata": {},
   "source": [
    "function should highlight the selected cell , by taking the center of the detected hand and get the cell it's selecting"
   ]
  },
  {
   "cell_type": "code",
   "execution_count": null,
   "id": "26b99678",
   "metadata": {},
   "outputs": [],
   "source": [
    "def highlight_cell(img, n, hand_x, hand_y, color=(0,255,0), thickness=3):\n",
    "    h, w, _ = img.shape # height, width of the image\n",
    "    rows, cols = n, n   # number of rows and columns\n",
    "    dy, dx = h / rows, w / cols # step size\n",
    "    row = int(hand_y// dy) # row and column index of the selected cell\n",
    "    col = int(hand_x // dx)\n",
    "    top_left_x = int(row * dx) # top left corner of the cell\n",
    "    top_left_y = int(col * dy)\n",
    "    bottom_right_x = int((col + 1) * dx) # bottom right corner of the cell\n",
    "    bottom_right_y = int((row + 1) * dy)\n",
    "    cv.rectangle(img, (top_left_x, top_left_y), (bottom_right_x, bottom_right_y), color=color, thickness=thickness)\n",
    "    return img  "
   ]
  }
 ],
 "metadata": {
  "kernelspec": {
   "display_name": "Python 3",
   "language": "python",
   "name": "python3"
  },
  "language_info": {
   "codemirror_mode": {
    "name": "ipython",
    "version": 3
   },
   "file_extension": ".py",
   "mimetype": "text/x-python",
   "name": "python",
   "nbconvert_exporter": "python",
   "pygments_lexer": "ipython3",
   "version": "3.13.6"
  }
 },
 "nbformat": 4,
 "nbformat_minor": 5
}

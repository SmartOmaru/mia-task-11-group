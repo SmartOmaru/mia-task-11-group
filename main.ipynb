{
 "cells": [
  {
   "cell_type": "markdown",
   "id": "248d9f0e",
   "metadata": {},
   "source": [
    "# grid"
   ]
  },
  {
   "cell_type": "code",
   "execution_count": 11,
   "id": "e02dc437",
   "metadata": {},
   "outputs": [],
   "source": [
    "import cv2 as cv\n",
    "import numpy as np\n",
    "import random"
   ]
  },
  {
   "cell_type": "markdown",
   "id": "75f1b77a",
   "metadata": {},
   "source": [
    "this supposed to be a temporary image to work on , till the camera frame is ready"
   ]
  },
  {
   "cell_type": "code",
   "execution_count": 9,
   "id": "c34e2b3c",
   "metadata": {},
   "outputs": [],
   "source": [
    "img = np.zeros((512,512,3), np.uint8)\n",
    "n=3\n"
   ]
  },
  {
   "cell_type": "markdown",
   "id": "510e11c3",
   "metadata": {},
   "source": [
    "**draw grid**\n",
    "\n"
   ]
  },
  {
   "cell_type": "code",
   "execution_count": null,
   "id": "99006379",
   "metadata": {},
   "outputs": [],
   "source": [
    "\n",
    "def draw_grid(img, n, color=(255, 0, 0), thickness=1):\n",
    "    h, w, _ = img.shape # height, width of the image\n",
    "    rows, cols = n, n # number of rows and columns\n",
    "    dy, dx = h / rows, w / cols # step size\n",
    "    for x in np.linspace(start=dx, stop=w-dx, num=cols-1):# x coordinates of vertical lines , the linspace is used to get evenly spaced values\n",
    "        x = int(round(x))\n",
    "        cv.line(img, (x, 0), (x, h), color=color, thickness=thickness)\n",
    "    for y in np.linspace(start=dy, stop=h-dy, num=rows-1):# y coordinates of horizontal lines\n",
    "        y = int(round(y))\n",
    "        cv.line(img, (0, y), (w, y), color=color, thickness=thickness)\n",
    "\n",
    "    return img\n"
   ]
  }
 ],
 "metadata": {
  "kernelspec": {
   "display_name": "Python 3",
   "language": "python",
   "name": "python3"
  },
  "language_info": {
   "codemirror_mode": {
    "name": "ipython",
    "version": 3
   },
   "file_extension": ".py",
   "mimetype": "text/x-python",
   "name": "python",
   "nbconvert_exporter": "python",
   "pygments_lexer": "ipython3",
   "version": "3.13.6"
  }
 },
 "nbformat": 4,
 "nbformat_minor": 5
}

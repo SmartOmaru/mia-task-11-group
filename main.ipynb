{
 "cells": [
  {
   "cell_type": "code",

   "execution_count": 17,
   "id": "6f771adb",
   "metadata": {},
   "outputs": [],
   "source": [
    "import cv2\n",
    "import numpy as np\n",
    "import time\n",

   "execution_count": 34,
   "id": "e02dc437",
   "metadata": {},
   "outputs": [],
   "source": [
    "import cv2 as cv\n",
    "import numpy as np\n",

    "import random"
   ]
  },
  {

   "cell_type": "code",
   "execution_count": 18,
   "id": "9f78254f",
   "metadata": {},
   "outputs": [],
   "source": [
    "Game_Duration = 60  # Game duration in seconds\n",
    "Start_Time = time.time() # Records when the game starts\n",
    "Score = 0\n",
    "Misses = 0\n",
    "Decepticon_Lifetime = 5 # Decepticon's life span on screen\n",
    "Decepticons = {} # To track decepticons on screen + their spawn times\n"
   ]
  },
  {
   "cell_type": "code",
   "execution_count": 19,
   "id": "2cbe48c3",
   "metadata": {},
   "outputs": [],
   "source": [
    "#Random spawn of decepticons\n",
    "def spawning_decepticons(frame, Decepticons):\n",
    "    if len(Decepticons) < 5:  # Limit the number of decepticons on screen\n",
    "        if random.random() < 0.02:  # 2% chance to spawn a new decepticon each frame\n",
    "            x = random.randint(0, frame.shape[1] - 50)\n",
    "            y = random.randint(0, frame.shape[0] - 50)\n",
    "            Decepticons[(x, y)] = time.time()  # Store spawn time\n",
    "            cv2.rectangle(frame, (x, y), (x + 50, y + 50), (0, 0, 255), -1)  # Draw decepticon\n",
    "    return frame, Decepticons"

   "cell_type": "markdown",
   "id": "510e11c3",
   "metadata": {},
   "source": [
    "## Draw grid\n",
    "\n"
   ]
  },
  {
   "cell_type": "markdown",
   "id": "25a066ce",
   "metadata": {},
   "source": [
    "function should generate a blue grid n*n costumized by the user input"

   ]
  },
  {
   "cell_type": "code",

   "execution_count": 20,
   "id": "26215d4a",
   "metadata": {},
   "outputs": [],
   "source": [
    "# Remove decepticons after finishing their life span + add to misses\n",
    "def remove_Decepticons(Decepticons):\n",
    "    global Misses\n",
    "    current_time = time.time() #gets the current time\n",
    "    to_remove = [pos for pos, spawn_time in Decepticons.items() if current_time - spawn_time > Decepticon_Lifetime] #List comprehension iterates over Decepticons, it calculates how long the decepticon has been on screen, if it exceeds the life span it is marked for removal, it results in a list containing the decepticons that overstayed\n",
    "    for pos in to_remove:\n",
    "        del Decepticons[pos] #removes the decepticons that overstayed\n",
    "        Misses += 1 #increments misses by 1 every time a decepticon is removed\n",
    "    return Decepticons"
   ]
  },
  {
   "cell_type": "code",
   "execution_count": 21,
   "id": "9b653f74",
   "metadata": {},
   "outputs": [],
   "source": [
    "#To draw decepticons on the frame\n",
    "DECEPTICON_SIZE = 50\n",
    "def draw_decepticons(frame, decepticons):\n",
    "    for (x, y), spawn_time in decepticons.items():\n",
    "        cv2.rectangle(frame, (x, y), (x + DECEPTICON_SIZE, y + DECEPTICON_SIZE), (0, 0, 255), -1)"

   "execution_count": 35,
   "id": "99006379",
   "metadata": {},
   "outputs": [],
   "source": [
    "\n",
    "def draw_grid(img, n, color=(255, 0, 0), thickness=1):\n",
    "    h, w, _ = img.shape # height, width of the image\n",
    "    rows, cols = n, n # number of rows and columns\n",
    "    dy, dx = h / rows, w / cols # step size\n",
    "    for x in np.linspace(start=dx, stop=w-dx, num=cols-1):# x coordinates of vertical lines , the linspace is used to get evenly spaced values\n",
    "        x = int(round(x))\n",
    "        cv.line(img, (x, 0), (x, h), color=color, thickness=thickness)\n",
    "    for y in np.linspace(start=dy, stop=h-dy, num=rows-1):# y coordinates of horizontal lines\n",
    "        y = int(round(y))\n",
    "        cv.line(img, (0, y), (w, y), color=color, thickness=thickness)\n",
    "\n",
    "    return img\n"
   ]
  },
  {
   "cell_type": "markdown",
   "id": "261382c2",
   "metadata": {},
   "source": [
    "# Random appearence for decepticon"
   ]
  },
  {
   "cell_type": "markdown",
   "id": "060d3b3e",
   "metadata": {},
   "source": [
    "function should get decepticon appear randomly in the grid  as red full circle"

   ]
  },
  {
   "cell_type": "code",

   "execution_count": 22,
   "id": "94ce2e25",
   "metadata": {},
   "outputs": [],
   "source": [
    "def score_and_misses(frame):\n",
    "    global Score, Misses\n",
    "    cv2.puttext(frame, f\"Score:{Score}\", (10, 30), cv2.FONT_HERSHEY_SIMPLEX, 1, (0, 255, 0), 2) # Displays score at the top left corner in green\n",
    "    cv2.puttext(frame, f\"Misses:{Misses}\", (10, 70), cv2.FONT_HERSHEY_SIMPLEX, 1, (0, 0, 255), 2) # Displays misses at the top left corner in red\n",
    "    # cv2.puttext(image, text, position, font, font_scale, color, thickness)\n",
    "    return frame"

   "execution_count": 36,
   "id": "a42eccf5",
   "metadata": {},
   "outputs": [],
   "source": [
    "def random_cell(img , n, radius=30,  color=(0,0,255), thickness=-1):\n",
    "    h, w, _ = img.shape # height, width of the image\n",
    "    rows, cols = n, n   # number of rows and columns\n",
    "    dy, dx = h / rows, w / cols # step size\n",
    "    rand_row = random.randint(0, n-1) # random row and column index\n",
    "    rand_col = random.randint(0, n-1)\n",
    "    center_x = int((rand_col + 0.5) * dx) # center of the cell\n",
    "    center_y = int((rand_row + 0.5) * dy)\n",
    "    cv.circle(img, center=(center_x, center_y), radius=radius, color=color, thickness=thickness)\n",
    "    return img\n",
    "    "
   ]
  },
  {
   "cell_type": "markdown",
   "id": "0dc46329",
   "metadata": {},
   "source": [
    "# Highlight selected cell "
   ]
  },
  {
   "cell_type": "markdown",
   "id": "ed5305b4",
   "metadata": {},
   "source": [
    "function should highlight the selected cell , by taking the center of the detected hand and get the cell it's selecting"

   ]
  },
  {
   "cell_type": "code",
   "execution_count": null,

   "id": "0c10fd89",
   "metadata": {},
   "outputs": [],
   "source": [
    "def main_gameloop():\n",
    "    global Score, Misses, Decepticons\n",
    "    # opens webcam for video capture\n",
    "    cap = cv2.VideoCapture(0)\n",
    "    while True:\n",
    "        ret, frame = cap.read()\n",
    "        if not ret:\n",
    "            print(\"Error: Failed to capture frame.\")\n",
    "        break\n",
    "        elapsed_time = time.time() - Start_Time #Calculates how much time has passed since the game started\n",
    "        Time_Left = Game_Duration - elapsed_time # calculates how much time is left\n",
    "        if Time_Left <= 0:\n",
    "            cv2.putText(frame, \"GAME OVER\", (200, 200), cv2.FONT_HERSHEY_SIMPLEX, 2, (0, 0, 255), 3) # Displays that the game is over\n",
    "            cv2.putText(frame, f\"Final Score: {Score}\", (200, 250), cv2.FONT_HERSHEY_SIMPLEX, 1, (0, 255, 0), 2) # Displays the final score\n",
    "            cv2.imshow(\"Wack-a-Decepticon\", frame)\n",
    "            cv2.waitKey(5000)  \n",
    "            break  \n",
    "\n",
    "        Decepticons = spawning_decepticons(frame, Decepticons) # calls that function that spawns decepticons\n",
    "        \n",
    "        Decepticons = remove_decepticons(Decepticons) # calls the function that removes decepticons after their life span\n",
    "\n",
    "\n",
    "        draw_decepticons(frame, decepticons) # draws the decepticons on the frame\n",
    "\n",
    "        \n",
    "        display_score_and_misses(frame, score, misses, time_left) # displays the score and misses on the frame\n",
    "\n",
    "        \n",
    "        cv2.imshow(\"Wack-a-Decepticon\", frame)\n",
    "\n",
    "        \n",
    "        key = cv2.waitKey(30) & 0xFF # waits for 30 ms for a key press\n",
    "        if key == 27: # if the key pressed is 'ESC'\n",
    "            break  \n",
    "\n",
    "    \n",
    "    cap.release()\n",
    "    cv2.destroyAllWindows()\n",
    "\n"

   "id": "26b99678",
   "metadata": {},
   "outputs": [],
   "source": [
    "def highlight_cell(img, n, hand_x, hand_y, color=(0,255,0), thickness=3):\n",
    "    h, w, _ = img.shape # height, width of the image\n",
    "    rows, cols = n, n   # number of rows and columns\n",
    "    dy, dx = h / rows, w / cols # step size\n",
    "    row = int(hand_y// dy) # row and column index of the selected cell\n",
    "    col = int(hand_x // dx)\n",
    "    top_left_x = int(row * dx) # top left corner of the cell\n",
    "    top_left_y = int(col * dy)\n",
    "    bottom_right_x = int((col + 1) * dx) # bottom right corner of the cell\n",
    "    bottom_right_y = int((row + 1) * dy)\n",
    "    cv.rectangle(img, (top_left_x, top_left_y), (bottom_right_x, bottom_right_y), color=color, thickness=thickness)\n",
    "    return img  "

   ]
  }
 ],
 "metadata": {
  "kernelspec": {
   "display_name": "Python 3",
   "language": "python",
   "name": "python3"
  },
  "language_info": {
   "codemirror_mode": {
    "name": "ipython",
    "version": 3
   },
   "file_extension": ".py",
   "mimetype": "text/x-python",
   "name": "python",
   "nbconvert_exporter": "python",
   "pygments_lexer": "ipython3",

   "version": "3.10.0"

   "version": "3.13.6"

  }
 },
 "nbformat": 4,
 "nbformat_minor": 5
}
